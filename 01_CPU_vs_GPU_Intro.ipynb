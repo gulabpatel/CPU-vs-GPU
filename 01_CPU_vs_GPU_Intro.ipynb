{
  "nbformat": 4,
  "nbformat_minor": 0,
  "metadata": {
    "colab": {
      "name": "01: CPU vs GPU.ipynb",
      "provenance": [],
      "authorship_tag": "ABX9TyN3dvn79F6QUxDk6aRBdZg3",
      "include_colab_link": true
    },
    "kernelspec": {
      "name": "python3",
      "display_name": "Python 3"
    },
    "language_info": {
      "name": "python"
    },
    "accelerator": "GPU"
  },
  "cells": [
    {
      "cell_type": "markdown",
      "metadata": {
        "id": "view-in-github",
        "colab_type": "text"
      },
      "source": [
        "<a href=\"https://colab.research.google.com/github/gulabpatel/CPU-vs-GPU/blob/main/01_CPU_vs_GPU_Intro.ipynb\" target=\"_parent\"><img src=\"https://colab.research.google.com/assets/colab-badge.svg\" alt=\"Open In Colab\"/></a>"
      ]
    },
    {
      "cell_type": "markdown",
      "source": [
        "https://www.youtube.com/watch?v=EKD1kEMNeeU&t=92s"
      ],
      "metadata": {
        "id": "Mwo1UtxDheST"
      }
    },
    {
      "cell_type": "code",
      "source": [
        "import torch"
      ],
      "metadata": {
        "id": "4_DV_QXOgV-e"
      },
      "execution_count": null,
      "outputs": []
    },
    {
      "cell_type": "markdown",
      "source": [
        "#CPU"
      ],
      "metadata": {
        "id": "us38CZMAgaEy"
      }
    },
    {
      "cell_type": "code",
      "execution_count": null,
      "metadata": {
        "colab": {
          "base_uri": "https://localhost:8080/"
        },
        "id": "MI-fFOgNgJGv",
        "outputId": "1c8f4135-f0e6-4b2e-bf7d-9129668d7fca"
      },
      "outputs": [
        {
          "output_type": "stream",
          "name": "stdout",
          "text": [
            "CPU times: user 896 µs, sys: 2.62 ms, total: 3.52 ms\n",
            "Wall time: 75.5 ms\n"
          ]
        }
      ],
      "source": [
        "%%time \n",
        "z = torch.randn(1,1)\n",
        "result = torch.matmul(z,z)\n",
        "del z, result"
      ]
    },
    {
      "cell_type": "code",
      "source": [
        "%%time \n",
        "z = torch.randn(10000,10000)\n",
        "result = torch.matmul(z,z)\n",
        "del z, result"
      ],
      "metadata": {
        "colab": {
          "base_uri": "https://localhost:8080/"
        },
        "id": "MWvXHv6fgYij",
        "outputId": "9e9ea1e3-d14e-424f-855f-83e4a27b6503"
      },
      "execution_count": null,
      "outputs": [
        {
          "output_type": "stream",
          "name": "stdout",
          "text": [
            "CPU times: user 29.4 s, sys: 468 ms, total: 29.9 s\n",
            "Wall time: 29.9 s\n"
          ]
        }
      ]
    },
    {
      "cell_type": "markdown",
      "source": [
        "#GPU"
      ],
      "metadata": {
        "id": "8EzxG3lUge0D"
      }
    },
    {
      "cell_type": "code",
      "source": [
        "!nvidia-smi"
      ],
      "metadata": {
        "colab": {
          "base_uri": "https://localhost:8080/"
        },
        "id": "_4xss58HhTsi",
        "outputId": "40212279-c2e3-4508-fc6b-2af2f3985876"
      },
      "execution_count": null,
      "outputs": [
        {
          "output_type": "stream",
          "name": "stdout",
          "text": [
            "Fri Mar  4 06:01:57 2022       \n",
            "+-----------------------------------------------------------------------------+\n",
            "| NVIDIA-SMI 460.32.03    Driver Version: 460.32.03    CUDA Version: 11.2     |\n",
            "|-------------------------------+----------------------+----------------------+\n",
            "| GPU  Name        Persistence-M| Bus-Id        Disp.A | Volatile Uncorr. ECC |\n",
            "| Fan  Temp  Perf  Pwr:Usage/Cap|         Memory-Usage | GPU-Util  Compute M. |\n",
            "|                               |                      |               MIG M. |\n",
            "|===============================+======================+======================|\n",
            "|   0  Tesla T4            Off  | 00000000:00:04.0 Off |                    0 |\n",
            "| N/A   36C    P8     9W /  70W |      0MiB / 15109MiB |      0%      Default |\n",
            "|                               |                      |                  N/A |\n",
            "+-------------------------------+----------------------+----------------------+\n",
            "                                                                               \n",
            "+-----------------------------------------------------------------------------+\n",
            "| Processes:                                                                  |\n",
            "|  GPU   GI   CI        PID   Type   Process name                  GPU Memory |\n",
            "|        ID   ID                                                   Usage      |\n",
            "|=============================================================================|\n",
            "|  No running processes found                                                 |\n",
            "+-----------------------------------------------------------------------------+\n"
          ]
        }
      ]
    },
    {
      "cell_type": "code",
      "source": [
        "device = torch.device('cuda' if torch.cuda.is_available() else 'cpu')"
      ],
      "metadata": {
        "id": "UaV30kBvhgFy"
      },
      "execution_count": null,
      "outputs": []
    },
    {
      "cell_type": "code",
      "source": [
        "%%time \n",
        "z = torch.randn(1,1)\n",
        "result = torch.matmul(z,z)\n",
        "del z, result"
      ],
      "metadata": {
        "colab": {
          "base_uri": "https://localhost:8080/"
        },
        "id": "36nx6yLeghzN",
        "outputId": "445e2638-2d82-4e25-a6f5-0c34a6901cbd"
      },
      "execution_count": null,
      "outputs": [
        {
          "output_type": "stream",
          "name": "stdout",
          "text": [
            "CPU times: user 3.41 ms, sys: 0 ns, total: 3.41 ms\n",
            "Wall time: 69.2 ms\n"
          ]
        }
      ]
    },
    {
      "cell_type": "code",
      "source": [
        "%%time \n",
        "z = torch.randn(1,1)\n",
        "result = torch.matmul(z,z)\n",
        "del z, result"
      ],
      "metadata": {
        "colab": {
          "base_uri": "https://localhost:8080/"
        },
        "id": "-ltWrr4bgjNa",
        "outputId": "d9b13f68-59f4-4170-e9eb-3c1f97e03b9a"
      },
      "execution_count": null,
      "outputs": [
        {
          "output_type": "stream",
          "name": "stdout",
          "text": [
            "CPU times: user 1.15 ms, sys: 31 µs, total: 1.18 ms\n",
            "Wall time: 2.77 ms\n"
          ]
        }
      ]
    }
  ]
}